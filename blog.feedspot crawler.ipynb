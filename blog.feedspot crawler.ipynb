{
 "cells": [
  {
   "cell_type": "markdown",
   "metadata": {},
   "source": [
    "Here i intiliaze the notebook. import necessary libraries and functions."
   ]
  },
  {
   "cell_type": "code",
   "execution_count": null,
   "metadata": {},
   "outputs": [],
   "source": [
    "from selenium import webdriver\n",
    "from bs4 import BeautifulSoup\n",
    "import pandas as pd\n",
    "from selenium.webdriver.edge.service import Service as EdgeService\n",
    "from webdriver_manager.microsoft import EdgeChromiumDriverManager\n",
    "driver=webdriver.Edge(service=EdgeService(EdgeChromiumDriverManager().install()))\n",
    "from selenium.webdriver.common.by import By\n",
    "from selenium.webdriver.common.keys import Keys\n"
   ]
  },
  {
   "cell_type": "markdown",
   "metadata": {},
   "source": [
    "Here i iniilize the webdriver and the url of the website."
   ]
  },
  {
   "cell_type": "code",
   "execution_count": null,
   "metadata": {},
   "outputs": [],
   "source": [
    "driver.get('https://blog.feedspot.com/category/usa-news-websites/')\n",
    "soup=BeautifulSoup(driver.page_source,'html.parser')\n",
    "a=soup.findAll('tbody')\n",
    "url=[]\n",
    "for j in a:\n",
    "    x=j.findAll('a')\n",
    "    for i in x:\n",
    "        url.append(i.get('href'))"
   ]
  },
  {
   "cell_type": "markdown",
   "metadata": {},
   "source": [
    "Here I import data from the website and clean it. "
   ]
  },
  {
   "cell_type": "code",
   "execution_count": null,
   "metadata": {},
   "outputs": [],
   "source": [
    "us_url=[]\n",
    "for a in url[1:]:\n",
    "    driver.get('https://blog.feedspot.com'+str(a))\n",
    "    soup=BeautifulSoup(driver.page_source,'html.parser')\n",
    "    a=soup.findAll('tbody')\n",
    "    for j in a:\n",
    "        x=j.findAll('a')\n",
    "        for i in x:\n",
    "            us_url.append((i.get('href'),i.text))"
   ]
  },
  {
   "cell_type": "markdown",
   "metadata": {},
   "source": [
    "Here I create a dataframe with the data and then save to the csv file."
   ]
  },
  {
   "cell_type": "code",
   "execution_count": null,
   "metadata": {},
   "outputs": [],
   "source": [
    "df=pd.DataFrame(us_url,columns=['url','title'])\n",
    "df.to_csv('usa_url.csv',index=False)"
   ]
  }
 ],
 "metadata": {
  "kernelspec": {
   "display_name": "Python 3.9.5 64-bit",
   "language": "python",
   "name": "python3"
  },
  "language_info": {
   "name": "python",
   "version": "3.9.5"
  },
  "orig_nbformat": 4,
  "vscode": {
   "interpreter": {
    "hash": "f6246b25e200e4c5124e3e61789ac81350562f0761bbcf92ad9e48654207659c"
   }
  }
 },
 "nbformat": 4,
 "nbformat_minor": 2
}
